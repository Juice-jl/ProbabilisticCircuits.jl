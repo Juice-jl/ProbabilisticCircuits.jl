{
 "cells": [
  {
   "cell_type": "code",
   "execution_count": 1,
   "metadata": {},
   "outputs": [],
   "source": [
    "using Revise\n",
    "using LogicCircuits\n",
    "using DataFrames\n",
    "using ProbabilisticCircuits\n",
    "using StatsBase: sample\n",
    "using Random\n",
    "using Serialization\n",
    "using Images\n",
    "using MLDatasets"
   ]
  },
  {
   "cell_type": "code",
   "execution_count": 2,
   "metadata": {},
   "outputs": [
    {
     "data": {
      "text/plain": [
       "mnist (generic function with 2 methods)"
      ]
     },
     "execution_count": 2,
     "metadata": {},
     "output_type": "execute_result"
    }
   ],
   "source": [
    "function mnist(labeled = false)\n",
    "    # transposing makes slicing by variable much much faster\n",
    "    # need to take a copy to physically move the data around\n",
    "    train_x = collect(Float32, transpose(reshape(MNIST.traintensor(), 28*28, :)))\n",
    "    test_x  = collect(Float32, transpose(reshape(MNIST.testtensor(), 28*28, :)))\n",
    "    \n",
    "    train = DataFrame(train_x, :auto)\n",
    "    valid = nothing # why is there no validation set in `MLDataSets`??\n",
    "    test = DataFrame(test_x, :auto)\n",
    "    if (labeled)\n",
    "        train_y::Vector{UInt8} = MNIST.trainlabels()\n",
    "        test_y::Vector{UInt8}  = MNIST.testlabels()\n",
    "        train.y = train_y\n",
    "        test.y = test_y\n",
    "    end\n",
    "    return train, valid, test\n",
    "end"
   ]
  },
  {
   "cell_type": "code",
   "execution_count": 3,
   "metadata": {},
   "outputs": [
    {
     "data": {
      "text/plain": [
       "load_pc (generic function with 1 method)"
      ]
     },
     "execution_count": 3,
     "metadata": {},
     "output_type": "execute_result"
    }
   ],
   "source": [
    "function arr2img(one_sample; ratio = 1)\n",
    "    imresize(colorview(Gray, transpose(reshape(Array(one_sample), (28,28)))), ratio=ratio)\n",
    "end\n",
    "\n",
    "import LogicCircuits: example\n",
    "function example(data::Vector{DataFrame}, i)\n",
    "    for b = 1 : size(data)[1]\n",
    "        if i <  size(data[b])[1]\n",
    "            return data[b][i,:]\n",
    "        end\n",
    "        i -= size(data[b])[1]\n",
    "    end\n",
    "end\n",
    "\n",
    "function load_pc()\n",
    "    read(\"$(@__DIR__)//mnist_b_301.jpc\", ProbCircuit)\n",
    "end\n"
   ]
  },
  {
   "cell_type": "code",
   "execution_count": 4,
   "metadata": {},
   "outputs": [
    {
     "data": {
      "text/plain": [
       "1024"
      ]
     },
     "execution_count": 4,
     "metadata": {},
     "output_type": "execute_result"
    }
   ],
   "source": [
    "#Random.seed!(2880)\n",
    "pc = load_pc()\n",
    "nvars = num_variables(pc)\n",
    "soft_reg_train = 0.002\n",
    "batch_SIZE = 1024"
   ]
  },
  {
   "cell_type": "code",
   "execution_count": 5,
   "metadata": {},
   "outputs": [
    {
     "data": {
      "text/plain": [
       "784"
      ]
     },
     "execution_count": 5,
     "metadata": {},
     "output_type": "execute_result"
    }
   ],
   "source": [
    "nvars"
   ]
  },
  {
   "cell_type": "code",
   "execution_count": 6,
   "metadata": {},
   "outputs": [
    {
     "name": "stdout",
     "output_type": "stream",
     "text": [
      "658817\n",
      "784\n",
      "659904\n"
     ]
    }
   ],
   "source": [
    "println(num_nodes(pc))\n",
    "println(num_variables(pc))\n",
    "println(num_parameters(pc))"
   ]
  },
  {
   "cell_type": "code",
   "execution_count": 7,
   "metadata": {},
   "outputs": [
    {
     "data": {
      "text/plain": [
       "6.759881936"
      ]
     },
     "execution_count": 7,
     "metadata": {},
     "output_type": "execute_result"
    }
   ],
   "source": [
    "t = @elapsed begin\n",
    "    \n",
    "    # MNIST dataset\n",
    "    mnist_train, _, mnist_test = mnist(true);\n",
    "    mnist_train, _, mnist_test = threshold(mnist_train[:, 1:end-1], nothing, mnist_test[:, 1:end-1], 0.5);\n",
    "    mnist_train = shuffle_examples(mnist_train);\n",
    "    mnist_valid = mnist_train[1:10000, :];\n",
    "    mnist_train = mnist_train[10001:end, :];\n",
    "        \n",
    "    train_data = batch(soften(mnist_train, soft_reg_train; scale_by_marginal = true), batch_SIZE)\n",
    "    valid_data = batch(mnist_valid, batch_SIZE)\n",
    "    test_data = batch(mnist_test, batch_SIZE)\n",
    "end"
   ]
  },
  {
   "cell_type": "code",
   "execution_count": 8,
   "metadata": {},
   "outputs": [
    {
     "data": {
      "image/png": "[encoded data removed]",
      "text/plain": [
       "28×28 Array{Gray{Float64},2} with eltype Gray{Float64}:\n",
       " Gray{Float64}(0.0)  Gray{Float64}(0.0)  …  Gray{Float64}(0.0)\n",
       " Gray{Float64}(0.0)  Gray{Float64}(0.0)     Gray{Float64}(0.0)\n",
       " Gray{Float64}(0.0)  Gray{Float64}(0.0)     Gray{Float64}(0.0)\n",
       " Gray{Float64}(0.0)  Gray{Float64}(0.0)     Gray{Float64}(0.0)\n",
       " Gray{Float64}(0.0)  Gray{Float64}(0.0)     Gray{Float64}(0.0)\n",
       " Gray{Float64}(0.0)  Gray{Float64}(0.0)  …  Gray{Float64}(0.0)\n",
       " Gray{Float64}(0.0)  Gray{Float64}(0.0)     Gray{Float64}(0.0)\n",
       " Gray{Float64}(0.0)  Gray{Float64}(0.0)     Gray{Float64}(0.0)\n",
       " Gray{Float64}(0.0)  Gray{Float64}(0.0)     Gray{Float64}(0.0)\n",
       " Gray{Float64}(0.0)  Gray{Float64}(0.0)     Gray{Float64}(0.0)\n",
       " Gray{Float64}(0.0)  Gray{Float64}(0.0)  …  Gray{Float64}(0.0)\n",
       " Gray{Float64}(0.0)  Gray{Float64}(0.0)     Gray{Float64}(0.0)\n",
       " Gray{Float64}(0.0)  Gray{Float64}(0.0)     Gray{Float64}(0.0)\n",
       " ⋮                                       ⋱  \n",
       " Gray{Float64}(0.0)  Gray{Float64}(0.0)     Gray{Float64}(0.0)\n",
       " Gray{Float64}(0.0)  Gray{Float64}(0.0)     Gray{Float64}(0.0)\n",
       " Gray{Float64}(0.0)  Gray{Float64}(0.0)     Gray{Float64}(0.0)\n",
       " Gray{Float64}(0.0)  Gray{Float64}(0.0)     Gray{Float64}(0.0)\n",
       " Gray{Float64}(0.0)  Gray{Float64}(0.0)  …  Gray{Float64}(0.0)\n",
       " Gray{Float64}(0.0)  Gray{Float64}(0.0)     Gray{Float64}(0.0)\n",
       " Gray{Float64}(0.0)  Gray{Float64}(0.0)     Gray{Float64}(0.0)\n",
       " Gray{Float64}(0.0)  Gray{Float64}(0.0)     Gray{Float64}(0.0)\n",
       " Gray{Float64}(0.0)  Gray{Float64}(0.0)     Gray{Float64}(0.0)\n",
       " Gray{Float64}(0.0)  Gray{Float64}(0.0)  …  Gray{Float64}(0.0)\n",
       " Gray{Float64}(0.0)  Gray{Float64}(0.0)     Gray{Float64}(0.0)\n",
       " Gray{Float64}(0.0)  Gray{Float64}(0.0)     Gray{Float64}(0.0)"
      ]
     },
     "execution_count": 8,
     "metadata": {},
     "output_type": "execute_result"
    },
    {
     "name": "stderr",
     "output_type": "stream",
     "text": [
      "┌ Warning: Replacing module `ImageCore`\n",
      "└ @ Base loading.jl:937\n"
     ]
    }
   ],
   "source": [
    "img_idx = 10\n",
    "img = example(test_data, img_idx)\n",
    "arr2img(img)"
   ]
  },
  {
   "cell_type": "code",
   "execution_count": 85,
   "metadata": {},
   "outputs": [],
   "source": [
    "# choose the conditoin index\n",
    "# 1. condition on pixels 1..K,\n",
    "# 2. condition on indexes nvars...(nvars-B)\n",
    "K = 28*15\n",
    "B = 28*6\n",
    "condition_indexs = [i for i=1:K]\n",
    "append!(condition_indexs, [i for i=nvars:-1:(nvars-B+1)])\n",
    "partial_image = [img[i] == 1 ? i : -i for i in condition_indexs];\n"
   ]
  },
  {
   "cell_type": "code",
   "execution_count": 88,
   "metadata": {},
   "outputs": [],
   "source": [
    "# query to be the rest of pixels\n",
    "query = []\n",
    "for i = 1:nvars\n",
    "    if !(i in condition_indexs)\n",
    "        push!(query, i)\n",
    "    end\n",
    "end\n",
    "query = BitSet(query);"
   ]
  },
  {
   "cell_type": "code",
   "execution_count": 89,
   "metadata": {},
   "outputs": [
    {
     "data": {
      "image/png": "[encoded data removed]",
      "text/plain": [
       "28×28 Array{Gray{Float32},2} with eltype Gray{Float32}:\n",
       " Gray{Float32}(0.0)  Gray{Float32}(0.0)  …  Gray{Float32}(0.0)\n",
       " Gray{Float32}(0.0)  Gray{Float32}(0.0)     Gray{Float32}(0.0)\n",
       " Gray{Float32}(0.0)  Gray{Float32}(0.0)     Gray{Float32}(0.0)\n",
       " Gray{Float32}(0.0)  Gray{Float32}(0.0)     Gray{Float32}(0.0)\n",
       " Gray{Float32}(0.0)  Gray{Float32}(0.0)     Gray{Float32}(0.0)\n",
       " Gray{Float32}(0.0)  Gray{Float32}(0.0)  …  Gray{Float32}(0.0)\n",
       " Gray{Float32}(0.0)  Gray{Float32}(0.0)     Gray{Float32}(0.0)\n",
       " Gray{Float32}(0.0)  Gray{Float32}(0.0)     Gray{Float32}(0.0)\n",
       " Gray{Float32}(0.0)  Gray{Float32}(0.0)     Gray{Float32}(0.0)\n",
       " Gray{Float32}(0.0)  Gray{Float32}(0.0)     Gray{Float32}(0.0)\n",
       " Gray{Float32}(0.0)  Gray{Float32}(0.0)  …  Gray{Float32}(0.0)\n",
       " Gray{Float32}(0.0)  Gray{Float32}(0.0)     Gray{Float32}(0.0)\n",
       " Gray{Float32}(0.0)  Gray{Float32}(0.0)     Gray{Float32}(0.0)\n",
       " ⋮                                       ⋱  \n",
       " Gray{Float32}(0.5)  Gray{Float32}(0.5)     Gray{Float32}(0.5)\n",
       " Gray{Float32}(0.5)  Gray{Float32}(0.5)     Gray{Float32}(0.5)\n",
       " Gray{Float32}(0.5)  Gray{Float32}(0.5)     Gray{Float32}(0.5)\n",
       " Gray{Float32}(0.5)  Gray{Float32}(0.5)     Gray{Float32}(0.5)\n",
       " Gray{Float32}(0.5)  Gray{Float32}(0.5)  …  Gray{Float32}(0.5)\n",
       " Gray{Float32}(0.5)  Gray{Float32}(0.5)     Gray{Float32}(0.5)\n",
       " Gray{Float32}(0.0)  Gray{Float32}(0.0)     Gray{Float32}(0.0)\n",
       " Gray{Float32}(0.0)  Gray{Float32}(0.0)     Gray{Float32}(0.0)\n",
       " Gray{Float32}(0.0)  Gray{Float32}(0.0)     Gray{Float32}(0.0)\n",
       " Gray{Float32}(0.0)  Gray{Float32}(0.0)  …  Gray{Float32}(0.0)\n",
       " Gray{Float32}(0.0)  Gray{Float32}(0.0)     Gray{Float32}(0.0)\n",
       " Gray{Float32}(0.0)  Gray{Float32}(0.0)     Gray{Float32}(0.0)"
      ]
     },
     "execution_count": 89,
     "metadata": {},
     "output_type": "execute_result"
    }
   ],
   "source": [
    "# Gray out is missing, the rest is the condition\n",
    "img_temp = Float32.(Array(example(test_data, img_idx)))\n",
    "for i in 1:nvars\n",
    "    if !(i in condition_indexs)\n",
    "        img_temp[i] = 0.5\n",
    "    end\n",
    "end\n",
    "arr2img(img_temp)"
   ]
  },
  {
   "cell_type": "code",
   "execution_count": 90,
   "metadata": {},
   "outputs": [
    {
     "data": {
      "image/png": "[encoded data removed]",
      "text/plain": [
       "28×28 Array{Gray{Float64},2} with eltype Gray{Float64}:\n",
       " Gray{Float64}(1.0)   Gray{Float64}(1.0)   …  Gray{Float64}(1.0)\n",
       " Gray{Float64}(1.0)   Gray{Float64}(1.0)      Gray{Float64}(1.0)\n",
       " Gray{Float64}(1.0)   Gray{Float64}(1.0)      Gray{Float64}(1.0)\n",
       " Gray{Float64}(1.0)   Gray{Float64}(1.0)      Gray{Float64}(1.0)\n",
       " Gray{Float64}(1.0)   Gray{Float64}(1.0)      Gray{Float64}(1.0)\n",
       " Gray{Float64}(1.0)   Gray{Float64}(1.0)   …  Gray{Float64}(1.0)\n",
       " Gray{Float64}(1.0)   Gray{Float64}(1.0)      Gray{Float64}(1.0)\n",
       " Gray{Float64}(1.0)   Gray{Float64}(1.0)      Gray{Float64}(1.0)\n",
       " Gray{Float64}(1.0)   Gray{Float64}(1.0)      Gray{Float64}(1.0)\n",
       " Gray{Float64}(1.0)   Gray{Float64}(1.0)      Gray{Float64}(1.0)\n",
       " Gray{Float64}(1.0)   Gray{Float64}(1.0)   …  Gray{Float64}(1.0)\n",
       " Gray{Float64}(1.0)   Gray{Float64}(1.0)      Gray{Float64}(1.0)\n",
       " Gray{Float64}(1.0)   Gray{Float64}(1.0)      Gray{Float64}(1.0)\n",
       " ⋮                                         ⋱  \n",
       " Gray{Float64}(-1.0)  Gray{Float64}(-1.0)     Gray{Float64}(-1.0)\n",
       " Gray{Float64}(-1.0)  Gray{Float64}(-1.0)     Gray{Float64}(-1.0)\n",
       " Gray{Float64}(-1.0)  Gray{Float64}(-1.0)     Gray{Float64}(-1.0)\n",
       " Gray{Float64}(-1.0)  Gray{Float64}(-1.0)     Gray{Float64}(-1.0)\n",
       " Gray{Float64}(-1.0)  Gray{Float64}(-1.0)  …  Gray{Float64}(-1.0)\n",
       " Gray{Float64}(-1.0)  Gray{Float64}(-1.0)     Gray{Float64}(-1.0)\n",
       " Gray{Float64}(1.0)   Gray{Float64}(1.0)      Gray{Float64}(1.0)\n",
       " Gray{Float64}(1.0)   Gray{Float64}(1.0)      Gray{Float64}(1.0)\n",
       " Gray{Float64}(1.0)   Gray{Float64}(1.0)      Gray{Float64}(1.0)\n",
       " Gray{Float64}(1.0)   Gray{Float64}(1.0)   …  Gray{Float64}(1.0)\n",
       " Gray{Float64}(1.0)   Gray{Float64}(1.0)      Gray{Float64}(1.0)\n",
       " Gray{Float64}(1.0)   Gray{Float64}(1.0)      Gray{Float64}(1.0)"
      ]
     },
     "execution_count": 90,
     "metadata": {},
     "output_type": "execute_result"
    }
   ],
   "source": [
    "# Black pixels are the query\n",
    "query_img = [i in query ? -1.0 : 1.0 for i=1:nvars]\n",
    "arr2img(query_img)"
   ]
  },
  {
   "cell_type": "code",
   "execution_count": null,
   "metadata": {},
   "outputs": [],
   "source": [
    "t = @elapsed begin\n",
    "    pc_condition(pc, Int32.(partial_image)...)\n",
    "end"
   ]
  },
  {
   "cell_type": "code",
   "execution_count": null,
   "metadata": {},
   "outputs": [],
   "source": [
    "#quer = open(deserialize, \"$(@__DIR__)//mnist_quer.jls\");\n",
    "#println(quer)"
   ]
  },
  {
   "cell_type": "code",
   "execution_count": null,
   "metadata": {},
   "outputs": [],
   "source": [
    "t = @elapsed begin\n",
    "    did_timeout, total_time, iter, ub, lb, lb_state, pc  = mmap_solve(pc, query, heur=\"UB\");\n",
    "end"
   ]
  },
  {
   "cell_type": "code",
   "execution_count": null,
   "metadata": {},
   "outputs": [],
   "source": [
    "println(lb_state)"
   ]
  },
  {
   "cell_type": "code",
   "execution_count": null,
   "metadata": {},
   "outputs": [],
   "source": [
    "arr = [arr2img(lb_state)]\n",
    "mosaicview(arr, fillvalue=1, npad=4, ncol=10, rowmajor=true)"
   ]
  },
  {
   "cell_type": "code",
   "execution_count": null,
   "metadata": {},
   "outputs": [],
   "source": [
    "save(\"$(@__DIR__)//mnist_map.png\", mosaicview(arr, fillvalue=1, npad=4, ncol=10, rowmajor=true))"
   ]
  },
  {
   "cell_type": "code",
   "execution_count": null,
   "metadata": {},
   "outputs": [],
   "source": []
  },
  {
   "cell_type": "code",
   "execution_count": null,
   "metadata": {},
   "outputs": [],
   "source": []
  },
  {
   "cell_type": "code",
   "execution_count": null,
   "metadata": {},
   "outputs": [],
   "source": []
  }
 ],
 "metadata": {
  "kernelspec": {
   "display_name": "Julia 1.6.0",
   "language": "julia",
   "name": "julia-1.6"
  },
  "language_info": {
   "file_extension": ".jl",
   "mimetype": "application/julia",
   "name": "julia",
   "version": "1.6.0"
  }
 },
 "nbformat": 4,
 "nbformat_minor": 4
}
