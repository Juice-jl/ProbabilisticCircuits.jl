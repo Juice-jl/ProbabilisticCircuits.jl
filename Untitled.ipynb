{
 "cells": [
  {
   "cell_type": "code",
   "execution_count": 1,
   "metadata": {},
   "outputs": [],
   "source": [
    "using Revise\n",
    "using LogicCircuits\n",
    "using DataFrames\n",
    "using ProbabilisticCircuits\n",
    "using StatsBase: sample\n",
    "using Random\n",
    "using Serialization\n",
    "using Images\n",
    "using MLDatasets"
   ]
  },
  {
   "cell_type": "code",
   "execution_count": 2,
   "metadata": {},
   "outputs": [
    {
     "data": {
      "text/plain": [
       "mnist (generic function with 2 methods)"
      ]
     },
     "execution_count": 2,
     "metadata": {},
     "output_type": "execute_result"
    }
   ],
   "source": [
    "function mnist(labeled = false)\n",
    "    # transposing makes slicing by variable much much faster\n",
    "    # need to take a copy to physically move the data around\n",
    "    train_x = collect(Float32, transpose(reshape(MNIST.traintensor(), 28*28, :)))\n",
    "    test_x  = collect(Float32, transpose(reshape(MNIST.testtensor(), 28*28, :)))\n",
    "    \n",
    "    train = DataFrame(train_x, :auto)\n",
    "    valid = nothing # why is there no validation set in `MLDataSets`??\n",
    "    test = DataFrame(test_x, :auto)\n",
    "    if (labeled)\n",
    "        train_y::Vector{UInt8} = MNIST.trainlabels()\n",
    "        test_y::Vector{UInt8}  = MNIST.testlabels()\n",
    "        train.y = train_y\n",
    "        test.y = test_y\n",
    "    end\n",
    "    return train, valid, test\n",
    "end"
   ]
  },
  {
   "cell_type": "code",
   "execution_count": 3,
   "metadata": {},
   "outputs": [
    {
     "data": {
      "text/plain": [
       "load_pc (generic function with 1 method)"
      ]
     },
     "execution_count": 3,
     "metadata": {},
     "output_type": "execute_result"
    }
   ],
   "source": [
    "function arr2img(one_sample; ratio = 1)\n",
    "    imresize(colorview(Gray, transpose(reshape(Array(one_sample), (28,28)))), ratio=ratio)\n",
    "end\n",
    "\n",
    "import LogicCircuits: example\n",
    "function example(data::Vector{DataFrame}, i)\n",
    "    for b = 1 : size(data)[1]\n",
    "        if i <  size(data[b])[1]\n",
    "            return data[b][i,:]\n",
    "        end\n",
    "        i -= size(data[b])[1]\n",
    "    end\n",
    "end\n",
    "\n",
    "function load_pc(name)\n",
    "    read(\"$(@__DIR__)//$(name).jpc\", ProbCircuit)\n",
    "end"
   ]
  },
  {
   "cell_type": "code",
   "execution_count": 4,
   "metadata": {},
   "outputs": [
    {
     "data": {
      "text/plain": [
       "1024"
      ]
     },
     "execution_count": 4,
     "metadata": {},
     "output_type": "execute_result"
    }
   ],
   "source": [
    "#Random.seed!(2880)\n",
    "pc = load_pc(\"mnist_cats8_181\")\n",
    "nvars = num_variables(pc)\n",
    "soft_reg_train = 0.002\n",
    "batch_SIZE = 1024"
   ]
  },
  {
   "cell_type": "code",
   "execution_count": 5,
   "metadata": {},
   "outputs": [
    {
     "data": {
      "text/plain": [
       "784"
      ]
     },
     "execution_count": 5,
     "metadata": {},
     "output_type": "execute_result"
    }
   ],
   "source": [
    "nvars"
   ]
  },
  {
   "cell_type": "code",
   "execution_count": null,
   "metadata": {},
   "outputs": [],
   "source": [
    "println(num_nodes(pc))\n",
    "println(num_variables(pc))\n",
    "println(num_parameters(pc))"
   ]
  },
  {
   "cell_type": "code",
   "execution_count": null,
   "metadata": {},
   "outputs": [],
   "source": [
    "t = @elapsed begin\n",
    "    \n",
    "    # MNIST dataset\n",
    "    mnist_train, _, mnist_test = mnist(true);\n",
    "    mnist_train, _, mnist_test = threshold(mnist_train[:, 1:end-1], nothing, mnist_test[:, 1:end-1], 0.5);\n",
    "    mnist_train = shuffle_examples(mnist_train);\n",
    "    mnist_valid = mnist_train[1:10000, :];\n",
    "    mnist_train = mnist_train[10001:end, :];\n",
    "        \n",
    "    train_data = batch(soften(mnist_train, soft_reg_train; scale_by_marginal = true), batch_SIZE)\n",
    "    valid_data = batch(mnist_valid, batch_SIZE)\n",
    "    test_data = batch(mnist_test, batch_SIZE)\n",
    "end"
   ]
  },
  {
   "cell_type": "code",
   "execution_count": null,
   "metadata": {},
   "outputs": [],
   "source": [
    "img_idx = 10\n",
    "img = example(test_data, img_idx)\n",
    "arr2img(img)"
   ]
  },
  {
   "cell_type": "code",
   "execution_count": null,
   "metadata": {},
   "outputs": [],
   "source": [
    "# choose the conditoin index\n",
    "# 1. condition on pixels 1..K,\n",
    "# 2. condition on indexes nvars...(nvars-B)\n",
    "K = 28*10\n",
    "B = 28*10\n",
    "condition_indexs = [i for i=1:K]\n",
    "append!(condition_indexs, [i for i=nvars:-1:(nvars-B+1)])\n",
    "partial_image = [img[i] == 1 ? i : -i for i in condition_indexs];\n"
   ]
  },
  {
   "cell_type": "code",
   "execution_count": null,
   "metadata": {},
   "outputs": [],
   "source": [
    "# query to be the rest of pixels\n",
    "query = []\n",
    "for i = 1:nvars\n",
    "    if !(i in condition_indexs)\n",
    "        push!(query, i)\n",
    "    end\n",
    "end\n",
    "query = BitSet(query);"
   ]
  },
  {
   "cell_type": "code",
   "execution_count": null,
   "metadata": {},
   "outputs": [],
   "source": [
    "# Gray out is missing, the rest is the condition\n",
    "img_temp = Float32.(Array(example(test_data, img_idx)))\n",
    "for i in 1:nvars\n",
    "    if !(i in condition_indexs)\n",
    "        img_temp[i] = 0.5\n",
    "    end\n",
    "end\n",
    "arr2img(img_temp)"
   ]
  },
  {
   "cell_type": "code",
   "execution_count": null,
   "metadata": {},
   "outputs": [],
   "source": [
    "# Black pixels are the query\n",
    "query_img = [i in query ? 0.0 : 1.0 for i=1:nvars]\n",
    "arr2img(query_img)"
   ]
  },
  {
   "cell_type": "code",
   "execution_count": null,
   "metadata": {},
   "outputs": [],
   "source": [
    "chunk = 10\n",
    "conjoin_lits = Int32.(partial_image)\n",
    "for i = 1:chunk:size(conjoin_lits)[1]\n",
    "    end_idx = min(size(conjoin_lits)[1], i+chunk-1)\n",
    "    print(\"Conjoining on conjoin_lits[$(i):$(end_idx)]\")\n",
    "    t = @elapsed begin\n",
    "       pc = pc_condition(pc, conjoin_lits[i:end_idx]...)    \n",
    "    end\n",
    "    println(\" $(t) seconds; Out of $(size(conjoin_lits))\")\n",
    "    write(\"conjoined_pc.jpc\", pc)\n",
    "end"
   ]
  },
  {
   "cell_type": "code",
   "execution_count": null,
   "metadata": {},
   "outputs": [],
   "source": [
    "arr = [arr2img(img), arr2img(img_temp),  arr2img(query_img)]\n",
    "mosaicview(arr, fillvalue=1, npad=4, ncol=10, rowmajor=true)"
   ]
  },
  {
   "cell_type": "code",
   "execution_count": null,
   "metadata": {},
   "outputs": [],
   "source": [
    "t = @elapsed begin\n",
    "    did_timeout, total_time, iter, ub, lb, lb_state, pc = mmap_solve(pc, query, heur=\"UB\", verbose=true);\n",
    "end"
   ]
  },
  {
   "cell_type": "code",
   "execution_count": null,
   "metadata": {},
   "outputs": [],
   "source": [
    "for i in condition_indexs\n",
    "    lb_state[i] = img[i]\n",
    "end\n",
    "println(lb_state)"
   ]
  },
  {
   "cell_type": "code",
   "execution_count": null,
   "metadata": {},
   "outputs": [],
   "source": [
    "arr = [arr2img(img), arr2img(img_temp),  arr2img(query_img), arr2img(lb_state)]\n",
    "mosaicview(arr, fillvalue=1, npad=4, ncol=10, rowmajor=true)"
   ]
  },
  {
   "cell_type": "code",
   "execution_count": null,
   "metadata": {},
   "outputs": [],
   "source": [
    "arr = [arr2img(lb_state)]\n",
    "mosaicview(arr, fillvalue=1, npad=4, ncol=10, rowmajor=true)"
   ]
  },
  {
   "cell_type": "code",
   "execution_count": null,
   "metadata": {},
   "outputs": [],
   "source": [
    "save(\"$(@__DIR__)//mnist_map.png\", mosaicview(arr, fillvalue=1, npad=4, ncol=10, rowmajor=true))"
   ]
  },
  {
   "cell_type": "code",
   "execution_count": null,
   "metadata": {},
   "outputs": [],
   "source": []
  },
  {
   "cell_type": "code",
   "execution_count": null,
   "metadata": {},
   "outputs": [],
   "source": []
  },
  {
   "cell_type": "code",
   "execution_count": null,
   "metadata": {},
   "outputs": [],
   "source": []
  }
 ],
 "metadata": {
  "kernelspec": {
   "display_name": "Julia 1.6.0",
   "language": "julia",
   "name": "julia-1.6"
  },
  "language_info": {
   "file_extension": ".jl",
   "mimetype": "application/julia",
   "name": "julia",
   "version": "1.6.0"
  }
 },
 "nbformat": 4,
 "nbformat_minor": 4
}
