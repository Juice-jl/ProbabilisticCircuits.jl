{
 "cells": [
  {
   "cell_type": "code",
   "execution_count": 33,
   "metadata": {},
   "outputs": [],
   "source": [
    "using Revise\n",
    "using LogicCircuits\n",
    "using DataFrames\n",
    "using ProbabilisticCircuits\n",
    "using StatsBase: sample\n",
    "using Random\n",
    "using Serialization\n",
    "using Images\n",
    "using MLDatasets"
   ]
  },
  {
   "cell_type": "code",
   "execution_count": 34,
   "metadata": {},
   "outputs": [
    {
     "data": {
      "text/plain": [
       "mnist (generic function with 2 methods)"
      ]
     },
     "execution_count": 34,
     "metadata": {},
     "output_type": "execute_result"
    }
   ],
   "source": [
    "function mnist(labeled = false)\n",
    "    # transposing makes slicing by variable much much faster\n",
    "    # need to take a copy to physically move the data around\n",
    "    train_x = collect(Float32, transpose(reshape(MNIST.traintensor(), 28*28, :)))\n",
    "    test_x  = collect(Float32, transpose(reshape(MNIST.testtensor(), 28*28, :)))\n",
    "    \n",
    "    train = DataFrame(train_x, :auto)\n",
    "    valid = nothing # why is there no validation set in `MLDataSets`??\n",
    "    test = DataFrame(test_x, :auto)\n",
    "    if (labeled)\n",
    "        train_y::Vector{UInt8} = MNIST.trainlabels()\n",
    "        test_y::Vector{UInt8}  = MNIST.testlabels()\n",
    "        train.y = train_y\n",
    "        test.y = test_y\n",
    "    end\n",
    "    return train, valid, test\n",
    "end"
   ]
  },
  {
   "cell_type": "code",
   "execution_count": 35,
   "metadata": {},
   "outputs": [
    {
     "data": {
      "text/plain": [
       "load_pc (generic function with 1 method)"
      ]
     },
     "execution_count": 35,
     "metadata": {},
     "output_type": "execute_result"
    }
   ],
   "source": [
    "function arr2img(one_sample; ratio = 1)\n",
    "    imresize(colorview(Gray, transpose(reshape(Array(one_sample), (28,28)))), ratio=ratio)\n",
    "end\n",
    "\n",
    "import LogicCircuits: example\n",
    "function example(data::Vector{DataFrame}, i)\n",
    "    for b = 1 : size(data)[1]\n",
    "        if i <  size(data[b])[1]\n",
    "            return data[b][i,:]\n",
    "        end\n",
    "        i -= size(data[b])[1]\n",
    "    end\n",
    "end\n",
    "\n",
    "function load_pc(name)\n",
    "    read(\"$(@__DIR__)//$(name).jpc\", ProbCircuit)\n",
    "end"
   ]
  },
  {
   "cell_type": "code",
   "execution_count": 36,
   "metadata": {},
   "outputs": [
    {
     "data": {
      "text/plain": [
       "1024"
      ]
     },
     "execution_count": 36,
     "metadata": {},
     "output_type": "execute_result"
    }
   ],
   "source": [
    "Random.seed!(2880)\n",
    "nvars = num_variables(pc)\n",
    "soft_reg_train = 0.002\n",
    "batch_SIZE = 1024"
   ]
  },
  {
   "cell_type": "code",
   "execution_count": 258,
   "metadata": {},
   "outputs": [
    {
     "name": "stdout",
     "output_type": "stream",
     "text": [
      "51961\n",
      "784\n",
      "51072\n"
     ]
    }
   ],
   "source": [
    "name = \"mnist_cats8_181\"\n",
    "pc = load_pc(name)\n",
    "println(num_nodes(pc))\n",
    "println(num_variables(pc))\n",
    "println(num_parameters(pc))"
   ]
  },
  {
   "cell_type": "code",
   "execution_count": 359,
   "metadata": {},
   "outputs": [
    {
     "data": {
      "text/plain": [
       "2.55449098"
      ]
     },
     "execution_count": 359,
     "metadata": {},
     "output_type": "execute_result"
    }
   ],
   "source": [
    "t = @elapsed begin\n",
    "    # MNIST dataset\n",
    "    mnist_train, _, mnist_test = mnist(true);\n",
    "    mnist_train, _, mnist_test = threshold(mnist_train[:, 1:end-1], nothing, mnist_test[:, 1:end-1], 0.5);\n",
    "#     mnist_train = shuffle_examples(mnist_train);\n",
    "    mnist_valid = mnist_train[1:10000, :];\n",
    "    mnist_train = mnist_train[10001:end, :];\n",
    "        \n",
    "    train_data = batch(soften(mnist_train, soft_reg_train; scale_by_marginal = true), batch_SIZE; shuffle=false)\n",
    "    valid_data = batch(mnist_valid, batch_SIZE; shuffle = false)\n",
    "    test_data = batch(mnist_test, batch_SIZE; shuffle = false)\n",
    "end"
   ]
  },
  {
   "cell_type": "code",
   "execution_count": 563,
   "metadata": {},
   "outputs": [
    {
     "data": {
      "image/png": "[encoded data removed]",
      "text/plain": [
       "28×28 Array{Gray{Float64},2} with eltype Gray{Float64}:\n",
       " Gray{Float64}(0.0)  Gray{Float64}(0.0)  …  Gray{Float64}(0.0)\n",
       " Gray{Float64}(0.0)  Gray{Float64}(0.0)     Gray{Float64}(0.0)\n",
       " Gray{Float64}(0.0)  Gray{Float64}(0.0)     Gray{Float64}(0.0)\n",
       " Gray{Float64}(0.0)  Gray{Float64}(0.0)     Gray{Float64}(0.0)\n",
       " Gray{Float64}(0.0)  Gray{Float64}(0.0)     Gray{Float64}(0.0)\n",
       " Gray{Float64}(0.0)  Gray{Float64}(0.0)  …  Gray{Float64}(0.0)\n",
       " Gray{Float64}(0.0)  Gray{Float64}(0.0)     Gray{Float64}(0.0)\n",
       " Gray{Float64}(0.0)  Gray{Float64}(0.0)     Gray{Float64}(0.0)\n",
       " Gray{Float64}(0.0)  Gray{Float64}(0.0)     Gray{Float64}(0.0)\n",
       " Gray{Float64}(0.0)  Gray{Float64}(0.0)     Gray{Float64}(0.0)\n",
       " Gray{Float64}(0.0)  Gray{Float64}(0.0)  …  Gray{Float64}(0.0)\n",
       " Gray{Float64}(0.0)  Gray{Float64}(0.0)     Gray{Float64}(0.0)\n",
       " Gray{Float64}(0.0)  Gray{Float64}(0.0)     Gray{Float64}(0.0)\n",
       " ⋮                                       ⋱  \n",
       " Gray{Float64}(0.0)  Gray{Float64}(0.0)     Gray{Float64}(0.0)\n",
       " Gray{Float64}(0.0)  Gray{Float64}(0.0)     Gray{Float64}(0.0)\n",
       " Gray{Float64}(0.0)  Gray{Float64}(0.0)     Gray{Float64}(0.0)\n",
       " Gray{Float64}(0.0)  Gray{Float64}(0.0)     Gray{Float64}(0.0)\n",
       " Gray{Float64}(0.0)  Gray{Float64}(0.0)  …  Gray{Float64}(0.0)\n",
       " Gray{Float64}(0.0)  Gray{Float64}(0.0)     Gray{Float64}(0.0)\n",
       " Gray{Float64}(0.0)  Gray{Float64}(0.0)     Gray{Float64}(0.0)\n",
       " Gray{Float64}(0.0)  Gray{Float64}(0.0)     Gray{Float64}(0.0)\n",
       " Gray{Float64}(0.0)  Gray{Float64}(0.0)     Gray{Float64}(0.0)\n",
       " Gray{Float64}(0.0)  Gray{Float64}(0.0)  …  Gray{Float64}(0.0)\n",
       " Gray{Float64}(0.0)  Gray{Float64}(0.0)     Gray{Float64}(0.0)\n",
       " Gray{Float64}(0.0)  Gray{Float64}(0.0)     Gray{Float64}(0.0)"
      ]
     },
     "execution_count": 563,
     "metadata": {},
     "output_type": "execute_result"
    }
   ],
   "source": [
    "img_idx = 10\n",
    "img = example(test_data, img_idx)\n",
    "arr2img(img)"
   ]
  },
  {
   "cell_type": "code",
   "execution_count": 564,
   "metadata": {},
   "outputs": [],
   "source": [
    "# choose the conditoin index\n",
    "# 1. condition on pixels 1..K,\n",
    "# 2. condition on indexes nvars...(nvars-B)\n",
    "K = 28*13\n",
    "B = 28*13\n",
    "condition_indexs = [i for i=1:K]\n",
    "append!(condition_indexs, [i for i=nvars-1:-1:(nvars-B+1)])\n",
    "partial_image = [img[i] == 1 ? i : -i for i in condition_indexs];"
   ]
  },
  {
   "cell_type": "code",
   "execution_count": 589,
   "metadata": {},
   "outputs": [],
   "source": [
    "U = 10\n",
    "D = 8\n",
    "L = 16\n",
    "R = 8\n",
    "\n",
    "condition_indexs = [i for i=1:nvars-1 if ((i%28 <= L) | (i % 28 > 28-R) | (i/28 <= U) | (i/28 > 28-D))]\n",
    "partial_image = [img[i] == 1 ? i : -i for i in condition_indexs];"
   ]
  },
  {
   "cell_type": "code",
   "execution_count": 591,
   "metadata": {},
   "outputs": [
    {
     "data": {
      "image/png": "[encoded data removed]",
      "text/plain": [
       "28×316 MosaicView{Gray{Float64}, 4, PermutedDimsArray{Gray{Float64}, 4, (1, 2, 4, 3), (1, 2, 4, 3), Base.ReshapedArray{Gray{Float64}, 4, PaddedView{Gray{Float64}, 3, Tuple{Base.OneTo{Int64}, Base.OneTo{Int64}, Base.OneTo{Int64}}, StackViews.StackView{Gray{Float64}, 3, 3, Vector{OffsetArrays.OffsetMatrix{Gray{Float64}, PaddedView{Gray{Float64}, 2, Tuple{UnitRange{Int64}, UnitRange{Int64}}, Matrix{Gray{Float64}}}}}}}, Tuple{Base.MultiplicativeInverses.SignedMultiplicativeInverse{Int64}, Base.MultiplicativeInverses.SignedMultiplicativeInverse{Int64}}}}}:\n",
       " Gray{Float64}(0.0)  Gray{Float64}(0.0)  …  Gray{Float64}(1.0)\n",
       " Gray{Float64}(0.0)  Gray{Float64}(0.0)     Gray{Float64}(1.0)\n",
       " Gray{Float64}(0.0)  Gray{Float64}(0.0)     Gray{Float64}(1.0)\n",
       " Gray{Float64}(0.0)  Gray{Float64}(0.0)     Gray{Float64}(1.0)\n",
       " Gray{Float64}(0.0)  Gray{Float64}(0.0)     Gray{Float64}(1.0)\n",
       " Gray{Float64}(0.0)  Gray{Float64}(0.0)  …  Gray{Float64}(1.0)\n",
       " Gray{Float64}(0.0)  Gray{Float64}(0.0)     Gray{Float64}(1.0)\n",
       " Gray{Float64}(0.0)  Gray{Float64}(0.0)     Gray{Float64}(1.0)\n",
       " Gray{Float64}(0.0)  Gray{Float64}(0.0)     Gray{Float64}(1.0)\n",
       " Gray{Float64}(0.0)  Gray{Float64}(0.0)     Gray{Float64}(1.0)\n",
       " Gray{Float64}(0.0)  Gray{Float64}(0.0)  …  Gray{Float64}(1.0)\n",
       " Gray{Float64}(0.0)  Gray{Float64}(0.0)     Gray{Float64}(1.0)\n",
       " Gray{Float64}(0.0)  Gray{Float64}(0.0)     Gray{Float64}(1.0)\n",
       " ⋮                                       ⋱  ⋮\n",
       " Gray{Float64}(0.0)  Gray{Float64}(0.0)     Gray{Float64}(1.0)\n",
       " Gray{Float64}(0.0)  Gray{Float64}(0.0)     Gray{Float64}(1.0)\n",
       " Gray{Float64}(0.0)  Gray{Float64}(0.0)     Gray{Float64}(1.0)\n",
       " Gray{Float64}(0.0)  Gray{Float64}(0.0)     Gray{Float64}(1.0)\n",
       " Gray{Float64}(0.0)  Gray{Float64}(0.0)  …  Gray{Float64}(1.0)\n",
       " Gray{Float64}(0.0)  Gray{Float64}(0.0)     Gray{Float64}(1.0)\n",
       " Gray{Float64}(0.0)  Gray{Float64}(0.0)     Gray{Float64}(1.0)\n",
       " Gray{Float64}(0.0)  Gray{Float64}(0.0)     Gray{Float64}(1.0)\n",
       " Gray{Float64}(0.0)  Gray{Float64}(0.0)     Gray{Float64}(1.0)\n",
       " Gray{Float64}(0.0)  Gray{Float64}(0.0)  …  Gray{Float64}(1.0)\n",
       " Gray{Float64}(0.0)  Gray{Float64}(0.0)     Gray{Float64}(1.0)\n",
       " Gray{Float64}(0.0)  Gray{Float64}(0.0)     Gray{Float64}(1.0)"
      ]
     },
     "execution_count": 591,
     "metadata": {},
     "output_type": "execute_result"
    }
   ],
   "source": [
    "# query to be the rest of pixels\n",
    "query = []\n",
    "for i = 1:nvars\n",
    "    if !(i in condition_indexs)\n",
    "        push!(query, i)\n",
    "    end\n",
    "end\n",
    "query = BitSet(query);\n",
    "\n",
    "# Gray out is missing, the rest is the condition\n",
    "img_temp = Float32.(Array(example(test_data, img_idx)))\n",
    "for i in 1:nvars\n",
    "    if !(i in condition_indexs)\n",
    "        img_temp[i] = 0.5\n",
    "    end\n",
    "end\n",
    "\n",
    "# Black pixels are the query\n",
    "query_img = [i in query ? 0.0 : .9 for i=1:nvars]\n",
    "\n",
    "arr = [arr2img(img), arr2img(img_temp),  arr2img(query_img)]\n",
    "mosaicview(arr, fillvalue=1, npad=4, ncol=10, rowmajor=true)"
   ]
  },
  {
   "cell_type": "code",
   "execution_count": 592,
   "metadata": {},
   "outputs": [
    {
     "data": {
      "text/plain": [
       "PlainSumNode(2968843540249676659)"
      ]
     },
     "execution_count": 592,
     "metadata": {},
     "output_type": "execute_result"
    }
   ],
   "source": [
    "pc = load_pc(name)"
   ]
  },
  {
   "cell_type": "code",
   "execution_count": 593,
   "metadata": {},
   "outputs": [
    {
     "name": "stdout",
     "output_type": "stream",
     "text": [
      "51961 51072 128792\n",
      "conjoin_with_literals .. (743,)\n",
      "51218 45128 122848\n"
     ]
    },
    {
     "data": {
      "text/plain": [
       "0.196588552"
      ]
     },
     "execution_count": 593,
     "metadata": {},
     "output_type": "execute_result"
    }
   ],
   "source": [
    "t = @elapsed begin\n",
    "    println(num_nodes(pc), \" \", num_parameters(pc), \" \", num_edges(pc))\n",
    "    conjoin_lits = Int32.(partial_image)\n",
    "    println(\"conjoin_with_literals .. $(size(conjoin_lits))\")\n",
    "    pc2 = conjoin_with_literals(pc, conjoin_lits) \n",
    "    println(num_nodes(pc2), \" \", num_parameters(pc2), \" \", num_edges(pc2))\n",
    "end"
   ]
  },
  {
   "cell_type": "code",
   "execution_count": 594,
   "metadata": {},
   "outputs": [],
   "source": [
    "# chunk = 20\n",
    "# conjoin_lits = Int32.(partial_image)\n",
    "# for i = 1:chunk:size(conjoin_lits)[1]\n",
    "#     end_idx = min(size(conjoin_lits)[1], i+chunk-1)\n",
    "#     print(\"Conjoining on conjoin_lits[$(i):$(end_idx)]\")\n",
    "#     t = @elapsed begin\n",
    "#        pc = pc_condition(pc, conjoin_lits[i:end_idx]...)    \n",
    "#     end\n",
    "#     println(\" $(t) seconds; Out of $(size(conjoin_lits))\")\n",
    "#     write(\"conjoined_pc.jpc\", pc)\n",
    "# end"
   ]
  },
  {
   "cell_type": "code",
   "execution_count": 595,
   "metadata": {},
   "outputs": [
    {
     "name": "stdout",
     "output_type": "stream",
     "text": [
      "-568.9164\n"
     ]
    },
    {
     "data": {
      "image/png": "[encoded data removed]",
      "text/plain": [
       "28×28 Array{Gray{Float64},2} with eltype Gray{Float64}:\n",
       " Gray{Float64}(0.0)  Gray{Float64}(0.0)  …  Gray{Float64}(0.0)\n",
       " Gray{Float64}(0.0)  Gray{Float64}(0.0)     Gray{Float64}(0.0)\n",
       " Gray{Float64}(0.0)  Gray{Float64}(0.0)     Gray{Float64}(0.0)\n",
       " Gray{Float64}(0.0)  Gray{Float64}(0.0)     Gray{Float64}(0.0)\n",
       " Gray{Float64}(0.0)  Gray{Float64}(0.0)     Gray{Float64}(0.0)\n",
       " Gray{Float64}(0.0)  Gray{Float64}(0.0)  …  Gray{Float64}(0.0)\n",
       " Gray{Float64}(0.0)  Gray{Float64}(0.0)     Gray{Float64}(0.0)\n",
       " Gray{Float64}(0.0)  Gray{Float64}(0.0)     Gray{Float64}(0.0)\n",
       " Gray{Float64}(0.0)  Gray{Float64}(0.0)     Gray{Float64}(0.0)\n",
       " Gray{Float64}(0.0)  Gray{Float64}(0.0)     Gray{Float64}(0.0)\n",
       " Gray{Float64}(0.0)  Gray{Float64}(0.0)  …  Gray{Float64}(0.0)\n",
       " Gray{Float64}(0.0)  Gray{Float64}(0.0)     Gray{Float64}(0.0)\n",
       " Gray{Float64}(0.0)  Gray{Float64}(0.0)     Gray{Float64}(0.0)\n",
       " ⋮                                       ⋱  \n",
       " Gray{Float64}(0.0)  Gray{Float64}(0.0)     Gray{Float64}(0.0)\n",
       " Gray{Float64}(0.0)  Gray{Float64}(0.0)     Gray{Float64}(0.0)\n",
       " Gray{Float64}(0.0)  Gray{Float64}(0.0)     Gray{Float64}(0.0)\n",
       " Gray{Float64}(0.0)  Gray{Float64}(0.0)     Gray{Float64}(0.0)\n",
       " Gray{Float64}(0.0)  Gray{Float64}(0.0)  …  Gray{Float64}(0.0)\n",
       " Gray{Float64}(0.0)  Gray{Float64}(0.0)     Gray{Float64}(0.0)\n",
       " Gray{Float64}(0.0)  Gray{Float64}(0.0)     Gray{Float64}(0.0)\n",
       " Gray{Float64}(0.0)  Gray{Float64}(0.0)     Gray{Float64}(0.0)\n",
       " Gray{Float64}(0.0)  Gray{Float64}(0.0)     Gray{Float64}(0.0)\n",
       " Gray{Float64}(0.0)  Gray{Float64}(0.0)  …  Gray{Float64}(0.0)\n",
       " Gray{Float64}(0.0)  Gray{Float64}(0.0)     Gray{Float64}(0.0)\n",
       " Gray{Float64}(0.0)  Gray{Float64}(0.0)     Gray{Float64}(0.0)"
      ]
     },
     "execution_count": 595,
     "metadata": {},
     "output_type": "execute_result"
    }
   ],
   "source": [
    "mpe_input = Array{Float32}([i in condition_indexs ? img[i] : 0.0 for i=1:nvars])\n",
    "mpe_state, p_mpe = max_a_posteriori(pc, [i in condition_indexs ? img[i] : missing for i=1:nvars])\n",
    "println(p_mpe)\n",
    "arr2img(mpe_state)"
   ]
  },
  {
   "cell_type": "code",
   "execution_count": 596,
   "metadata": {},
   "outputs": [
    {
     "data": {
      "image/png": "[encoded data removed]",
      "text/plain": [
       "28×28 Array{Gray{Float64},2} with eltype Gray{Float64}:\n",
       " Gray{Float64}(0.0)  Gray{Float64}(0.0)  …  Gray{Float64}(0.0)\n",
       " Gray{Float64}(0.0)  Gray{Float64}(0.0)     Gray{Float64}(0.0)\n",
       " Gray{Float64}(0.0)  Gray{Float64}(0.0)     Gray{Float64}(0.0)\n",
       " Gray{Float64}(0.0)  Gray{Float64}(0.0)     Gray{Float64}(0.0)\n",
       " Gray{Float64}(0.0)  Gray{Float64}(0.0)     Gray{Float64}(0.0)\n",
       " Gray{Float64}(0.0)  Gray{Float64}(0.0)  …  Gray{Float64}(0.0)\n",
       " Gray{Float64}(0.0)  Gray{Float64}(0.0)     Gray{Float64}(0.0)\n",
       " Gray{Float64}(0.0)  Gray{Float64}(0.0)     Gray{Float64}(0.0)\n",
       " Gray{Float64}(0.0)  Gray{Float64}(0.0)     Gray{Float64}(0.0)\n",
       " Gray{Float64}(0.0)  Gray{Float64}(0.0)     Gray{Float64}(0.0)\n",
       " Gray{Float64}(0.0)  Gray{Float64}(0.0)  …  Gray{Float64}(0.0)\n",
       " Gray{Float64}(0.0)  Gray{Float64}(0.0)     Gray{Float64}(0.0)\n",
       " Gray{Float64}(0.0)  Gray{Float64}(0.0)     Gray{Float64}(0.0)\n",
       " ⋮                                       ⋱  \n",
       " Gray{Float64}(0.0)  Gray{Float64}(0.0)     Gray{Float64}(0.0)\n",
       " Gray{Float64}(0.0)  Gray{Float64}(0.0)     Gray{Float64}(0.0)\n",
       " Gray{Float64}(0.0)  Gray{Float64}(0.0)     Gray{Float64}(0.0)\n",
       " Gray{Float64}(0.0)  Gray{Float64}(0.0)     Gray{Float64}(0.0)\n",
       " Gray{Float64}(0.0)  Gray{Float64}(0.0)  …  Gray{Float64}(0.0)\n",
       " Gray{Float64}(0.0)  Gray{Float64}(0.0)     Gray{Float64}(0.0)\n",
       " Gray{Float64}(0.0)  Gray{Float64}(0.0)     Gray{Float64}(0.0)\n",
       " Gray{Float64}(0.0)  Gray{Float64}(0.0)     Gray{Float64}(0.0)\n",
       " Gray{Float64}(0.0)  Gray{Float64}(0.0)     Gray{Float64}(0.0)\n",
       " Gray{Float64}(0.0)  Gray{Float64}(0.0)  …  Gray{Float64}(0.0)\n",
       " Gray{Float64}(0.0)  Gray{Float64}(0.0)     Gray{Float64}(0.0)\n",
       " Gray{Float64}(0.0)  Gray{Float64}(0.0)     Gray{Float64}(0.0)"
      ]
     },
     "execution_count": 596,
     "metadata": {},
     "output_type": "execute_result"
    }
   ],
   "source": [
    "for i=1:nvars\n",
    "    if i in condition_indexs\n",
    "        mpe_state[i] = img[i]\n",
    "    end\n",
    "end\n",
    "arr2img(mpe_state)"
   ]
  },
  {
   "cell_type": "code",
   "execution_count": 597,
   "metadata": {
    "scrolled": true
   },
   "outputs": [
    {
     "name": "stdout",
     "output_type": "stream",
     "text": [
      "(ub, lb) = (-97.3727125867506, -104.14263580226098)\n",
      "* Starting with 12456 edges and 3819 nodes.\n",
      "* Pruning gives 12456 edges and 3819 nodes.\n",
      "* [1/41] Splitting on 784 gives 15050 edges and 4317 nodes.\n",
      "* Starting with 15050 edges and 4317 nodes.\n",
      "* Pruning gives 12449 edges and 3819 nodes.\n",
      "* [2/41] Splitting on 552 gives 13068 edges and 4014 nodes.\n",
      "* Starting with 13068 edges and 4014 nodes.\n",
      "* Pruning gives 13068 edges and 4014 nodes.\n",
      "* [3/41] Splitting on 550 gives 14138 edges and 4348 nodes.\n",
      "* Starting with 14138 edges and 4348 nodes.\n",
      "* Pruning gives 13872 edges and 4274 nodes.\n",
      "* [4/41] Splitting on 523 gives 15426 edges and 4772 nodes.\n",
      "* Starting with 15426 edges and 4772 nodes.\n",
      "* Pruning gives 14534 edges and 4503 nodes.\n",
      "* [5/41] Splitting on 524 gives 16150 edges and 4999 nodes.\n",
      "* Starting with 16150 edges and 4999 nodes.\n",
      "* Pruning gives 15348 edges and 4773 nodes.\n",
      "* [6/41] Splitting on 521 gives 18794 edges and 5875 nodes.\n",
      "* Starting with 18794 edges and 5875 nodes.\n",
      "* Pruning gives 18794 edges and 5875 nodes.\n",
      "* [7/41] Splitting on 496 gives 22758 edges and 7087 nodes.\n",
      "* Starting with 22758 edges and 7087 nodes.\n",
      "* Pruning gives 19249 edges and 6025 nodes.\n",
      "* [8/41] Splitting on 328 gives 24828 edges and 7820 nodes.\n",
      "* Starting with 24828 edges and 7820 nodes.\n",
      "* Pruning gives 23760 edges and 7520 nodes.\n",
      "* [9/41] Splitting on 468 gives 31930 edges and 10082 nodes.\n",
      "* Starting with 31930 edges and 10082 nodes.\n",
      "* Pruning gives 29522 edges and 9402 nodes.\n",
      "* [10/41] Splitting on 440 gives 43838 edges and 13982 nodes.\n",
      "* Starting with 43838 edges and 13982 nodes.\n",
      "* Pruning gives 38344 edges and 12328 nodes.\n",
      "* [11/41] Splitting on 412 gives 61866 edges and 19970 nodes.\n",
      "* Starting with 61866 edges and 19970 nodes.\n",
      "* Pruning gives 51407 edges and 16663 nodes.\n",
      "* [12/41] Splitting on 325 gives 56024 edges and 18400 nodes.\n",
      "* Starting with 56024 edges and 18400 nodes.\n",
      "* Pruning gives 51928 edges and 16736 nodes.\n",
      "* [13/41] Splitting on 354 gives 70802 edges and 22682 nodes.\n",
      "* Starting with 70802 edges and 22682 nodes.\n",
      "* Pruning gives 62748 edges and 20148 nodes.\n",
      "* [14/41] Splitting on 551 gives 88058 edges and 27850 nodes.\n",
      "* Starting with 88058 edges and 27850 nodes.\n",
      "* Pruning gives 62741 edges and 20148 nodes.\n",
      "* [15/41] Splitting on 411 gives 89492 edges and 28475 nodes.\n",
      "* Starting with 89492 edges and 28475 nodes.\n",
      "* Pruning gives 65918 edges and 21141 nodes.\n",
      "* [16/41] Splitting on 384 gives 109438 edges and 35285 nodes.\n",
      "* Starting with 109438 edges and 35285 nodes.\n",
      "* Pruning gives 67849 edges and 21991 nodes.\n",
      "* [17/41] Splitting on 327 gives 100356 edges and 32322 nodes.\n",
      "* Starting with 100356 edges and 32322 nodes.\n",
      "* Pruning gives 77627 edges and 25129 nodes.\n",
      "* [18/41] Splitting on 300 gives 131792 edges and 42806 nodes.\n",
      "* Starting with 131792 edges and 42806 nodes.\n",
      "* Pruning gives 72985 edges and 23743 nodes.\n",
      "* [19/41] Splitting on 297 gives 83028 edges and 27906 nodes.\n",
      "* Starting with 83028 edges and 27906 nodes.\n",
      "* Pruning gives 75375 edges and 24237 nodes.\n",
      "* [20/41] Splitting on 381 gives 88384 edges and 29102 nodes.\n",
      "* Starting with 88384 edges and 29102 nodes.\n",
      "* Pruning gives 71021 edges and 22666 nodes.\n",
      "* [21/41] Splitting on 439 gives 105916 edges and 34529 nodes.\n",
      "* Starting with 105916 edges and 34529 nodes.\n",
      "* Pruning gives 76694 edges and 24659 nodes.\n",
      "* [22/41] Splitting on 522 gives 118998 edges and 38611 nodes.\n",
      "* Starting with 118998 edges and 38611 nodes.\n",
      "* Pruning gives 80842 edges and 26188 nodes.\n",
      "* [23/41] Splitting on 383 gives 135806 edges and 44456 nodes.\n",
      "* Starting with 135806 edges and 44456 nodes.\n",
      "* Pruning gives 80190 edges and 26056 nodes.\n",
      "* [24/41] Splitting on 299 gives 135334 edges and 44480 nodes.\n",
      "* Starting with 135334 edges and 44480 nodes.\n",
      "* Pruning gives 73191 edges and 23881 nodes.\n",
      "* [25/41] Splitting on 355 gives 120632 edges and 39890 nodes.\n",
      "* Starting with 120632 edges and 39890 nodes.\n",
      "* Pruning gives 66691 edges and 21613 nodes.\n",
      "* [26/41] Splitting on 437 gives 104624 edges and 34114 nodes.\n",
      "* Starting with 104624 edges and 34114 nodes.\n",
      "* Pruning gives 71631 edges and 22973 nodes.\n",
      "* [27/41] Splitting on 410 gives 117992 edges and 38206 nodes.\n",
      "* Starting with 117992 edges and 38206 nodes.\n",
      "* Pruning gives 69710 edges and 22356 nodes.\n",
      "* [28/41] Splitting on 298 gives 115174 edges and 37332 nodes.\n",
      "* Starting with 115174 edges and 37332 nodes.\n",
      "* Pruning gives 53393 edges and 17069 nodes.\n",
      "* [29/41] Splitting on 438 gives 81052 edges and 26216 nodes.\n",
      "* Starting with 81052 edges and 26216 nodes.\n",
      "* Pruning gives 51468 edges and 16399 nodes.\n",
      "* [30/41] Splitting on 382 gives 78362 edges and 25309 nodes.\n",
      "* Starting with 78362 edges and 25309 nodes.\n",
      "* Pruning gives 44873 edges and 14113 nodes.\n",
      "* [31/41] Splitting on 326 gives 66220 edges and 21124 nodes.\n",
      "* Starting with 66220 edges and 21124 nodes.\n",
      "* Pruning gives 41222 edges and 13236 nodes.\n",
      "* [32/41] Splitting on 494 gives 60222 edges and 19412 nodes.\n",
      "* Starting with 60222 edges and 19412 nodes.\n",
      "* Pruning gives 42347 edges and 13649 nodes.\n",
      "* [33/41] Splitting on 495 gives 59864 edges and 19342 nodes.\n",
      "* Starting with 59864 edges and 19342 nodes.\n",
      "* Pruning gives 42696 edges and 13782 nodes.\n",
      "* [34/41] Splitting on 465 gives 64386 edges and 20880 nodes.\n",
      "* Starting with 64386 edges and 20880 nodes.\n",
      "* Pruning gives 34082 edges and 10917 nodes.\n",
      "* [35/41] Splitting on 409 gives 47950 edges and 15457 nodes.\n",
      "* Starting with 47950 edges and 15457 nodes.\n",
      "* Pruning gives 29547 edges and 9339 nodes.\n",
      "* [36/41] Splitting on 467 gives 38792 edges and 12344 nodes.\n",
      "* Starting with 38792 edges and 12344 nodes.\n",
      "* Pruning gives 22476 edges and 7304 nodes.\n",
      "* [37/41] Splitting on 549 gives 30242 edges and 9830 nodes.\n",
      "* Starting with 30242 edges and 9830 nodes.\n",
      "* Pruning gives 19444 edges and 6359 nodes.\n",
      "* [38/41] Splitting on 493 gives 24762 edges and 8157 nodes.\n",
      "* Starting with 24762 edges and 8157 nodes.\n",
      "* Pruning gives 16516 edges and 5340 nodes.\n",
      "* [39/41] Splitting on 356 gives 20866 edges and 6890 nodes.\n",
      "* Starting with 20866 edges and 6890 nodes.\n",
      "* Pruning gives 15261 edges and 4891 nodes.\n",
      "* [40/41] Splitting on 353 gives 18052 edges and 5546 nodes.\n",
      "* Starting with 18052 edges and 5546 nodes.\n",
      "* Pruning gives 12176 edges and 3819 nodes.\n",
      "* [41/41] Splitting on 466 gives 13618 edges and 4349 nodes.\n"
     ]
    },
    {
     "data": {
      "text/plain": [
       "15.592228583"
      ]
     },
     "execution_count": 597,
     "metadata": {},
     "output_type": "execute_result"
    }
   ],
   "source": [
    "t = @elapsed begin\n",
    "    did_timeout, total_time, iter, ub, lb, lb_state, pc = mmap_solve(pc2, query, heur=\"UB\", verbose=true);\n",
    "end"
   ]
  },
  {
   "cell_type": "code",
   "execution_count": 602,
   "metadata": {},
   "outputs": [],
   "source": [
    "for i in condition_indexs\n",
    "    lb_state[i] = img[i];\n",
    "end\n",
    "lb_state = Array{Bool}(lb_state);"
   ]
  },
  {
   "cell_type": "code",
   "execution_count": 603,
   "metadata": {},
   "outputs": [
    {
     "data": {
      "text/plain": [
       "10"
      ]
     },
     "execution_count": 603,
     "metadata": {},
     "output_type": "execute_result"
    }
   ],
   "source": [
    "sum((Array{Bool}(img) .!==  lb_state))"
   ]
  },
  {
   "cell_type": "code",
   "execution_count": 604,
   "metadata": {},
   "outputs": [
    {
     "data": {
      "text/plain": [
       "1"
      ]
     },
     "execution_count": 604,
     "metadata": {},
     "output_type": "execute_result"
    }
   ],
   "source": [
    "sum((mpe_state .!==  lb_state))"
   ]
  },
  {
   "cell_type": "code",
   "execution_count": 605,
   "metadata": {},
   "outputs": [
    {
     "name": "stdout",
     "output_type": "stream",
     "text": [
      "MMAP Likelihood: Float32[-103.969635]\n",
      "MAP likelihood: Float32[-Inf]\n"
     ]
    },
    {
     "data": {
      "image/png": "[encoded data removed]",
      "text/plain": [
       "60×92 MosaicView{Gray{Float64}, 4, PermutedDimsArray{Gray{Float64}, 4, (1, 2, 4, 3), (1, 2, 4, 3), Base.ReshapedArray{Gray{Float64}, 4, PaddedView{Gray{Float64}, 3, Tuple{Base.OneTo{Int64}, Base.OneTo{Int64}, Base.OneTo{Int64}}, StackViews.StackView{Gray{Float64}, 3, 3, Vector{OffsetArrays.OffsetMatrix{Gray{Float64}, PaddedView{Gray{Float64}, 2, Tuple{UnitRange{Int64}, UnitRange{Int64}}, Matrix{Gray{Float64}}}}}}}, Tuple{Base.MultiplicativeInverses.SignedMultiplicativeInverse{Int64}, Base.MultiplicativeInverses.SignedMultiplicativeInverse{Int64}}}}}:\n",
       " Gray{Float64}(0.0)  Gray{Float64}(0.0)  …  Gray{Float64}(0.9)\n",
       " Gray{Float64}(0.0)  Gray{Float64}(0.0)     Gray{Float64}(0.9)\n",
       " Gray{Float64}(0.0)  Gray{Float64}(0.0)     Gray{Float64}(0.9)\n",
       " Gray{Float64}(0.0)  Gray{Float64}(0.0)     Gray{Float64}(0.9)\n",
       " Gray{Float64}(0.0)  Gray{Float64}(0.0)     Gray{Float64}(0.9)\n",
       " Gray{Float64}(0.0)  Gray{Float64}(0.0)  …  Gray{Float64}(0.9)\n",
       " Gray{Float64}(0.0)  Gray{Float64}(0.0)     Gray{Float64}(0.9)\n",
       " Gray{Float64}(0.0)  Gray{Float64}(0.0)     Gray{Float64}(0.9)\n",
       " Gray{Float64}(0.0)  Gray{Float64}(0.0)     Gray{Float64}(0.9)\n",
       " Gray{Float64}(0.0)  Gray{Float64}(0.0)     Gray{Float64}(0.9)\n",
       " Gray{Float64}(0.0)  Gray{Float64}(0.0)  …  Gray{Float64}(0.9)\n",
       " Gray{Float64}(0.0)  Gray{Float64}(0.0)     Gray{Float64}(0.9)\n",
       " Gray{Float64}(0.0)  Gray{Float64}(0.0)     Gray{Float64}(0.9)\n",
       " ⋮                                       ⋱  \n",
       " Gray{Float64}(0.0)  Gray{Float64}(0.0)     Gray{Float64}(0.0)\n",
       " Gray{Float64}(0.0)  Gray{Float64}(0.0)     Gray{Float64}(0.0)\n",
       " Gray{Float64}(0.0)  Gray{Float64}(0.0)  …  Gray{Float64}(0.0)\n",
       " Gray{Float64}(0.0)  Gray{Float64}(0.0)     Gray{Float64}(0.0)\n",
       " Gray{Float64}(0.0)  Gray{Float64}(0.0)     Gray{Float64}(0.0)\n",
       " Gray{Float64}(0.0)  Gray{Float64}(0.0)     Gray{Float64}(0.0)\n",
       " Gray{Float64}(0.0)  Gray{Float64}(0.0)     Gray{Float64}(0.0)\n",
       " Gray{Float64}(0.0)  Gray{Float64}(0.0)  …  Gray{Float64}(0.0)\n",
       " Gray{Float64}(0.0)  Gray{Float64}(0.0)     Gray{Float64}(0.0)\n",
       " Gray{Float64}(0.0)  Gray{Float64}(0.0)     Gray{Float64}(0.0)\n",
       " Gray{Float64}(0.0)  Gray{Float64}(0.0)     Gray{Float64}(0.0)\n",
       " Gray{Float64}(0.0)  Gray{Float64}(0.0)     Gray{Float64}(0.0)"
      ]
     },
     "execution_count": 605,
     "metadata": {},
     "output_type": "execute_result"
    }
   ],
   "source": [
    "lb_state_2 = zeros(Bool, (1,28*28))\n",
    "lb_state_2[1,:] .= lb_state;\n",
    "println(\"MMAP Likelihood: \", marginal(pc, DataFrame(lb_state_2, :auto)))\n",
    "\n",
    "mpe_state_2 = zeros(Bool, (1,28*28))\n",
    "mpe_state_2[1,:] .= mpe_state;\n",
    "println(\"MAP likelihood: \", marginal(pc, DataFrame(mpe_state_2, :auto)))\n",
    "\n",
    "arr = [arr2img(img), arr2img(img_temp),  arr2img(query_img), arr2img(mpe_state), arr2img(lb_state), arr2img((mpe_state .!==  lb_state))]\n",
    "mosaicview(arr, fillvalue=1, npad=4, ncol=3, rowmajor=true)"
   ]
  },
  {
   "cell_type": "code",
   "execution_count": null,
   "metadata": {},
   "outputs": [],
   "source": []
  },
  {
   "cell_type": "code",
   "execution_count": null,
   "metadata": {},
   "outputs": [],
   "source": []
  },
  {
   "cell_type": "code",
   "execution_count": null,
   "metadata": {},
   "outputs": [],
   "source": []
  },
  {
   "cell_type": "code",
   "execution_count": null,
   "metadata": {},
   "outputs": [],
   "source": []
  }
 ],
 "metadata": {
  "kernelspec": {
   "display_name": "Julia 1.6.0",
   "language": "julia",
   "name": "julia-1.6"
  },
  "language_info": {
   "file_extension": ".jl",
   "mimetype": "application/julia",
   "name": "julia",
   "version": "1.6.0"
  }
 },
 "nbformat": 4,
 "nbformat_minor": 4
}
