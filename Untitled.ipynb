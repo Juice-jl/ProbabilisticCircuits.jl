{
 "cells": [
  {
   "cell_type": "code",
   "execution_count": 33,
   "metadata": {},
   "outputs": [],
   "source": [
    "using Revise\n",
    "using LogicCircuits\n",
    "using DataFrames\n",
    "using ProbabilisticCircuits\n",
    "using StatsBase: sample\n",
    "using Random\n",
    "using Serialization\n",
    "using Images\n",
    "using MLDatasets"
   ]
  },
  {
   "cell_type": "code",
   "execution_count": 34,
   "metadata": {},
   "outputs": [
    {
     "data": {
      "text/plain": [
       "mnist (generic function with 2 methods)"
      ]
     },
     "execution_count": 34,
     "metadata": {},
     "output_type": "execute_result"
    }
   ],
   "source": [
    "function mnist(labeled = false)\n",
    "    # transposing makes slicing by variable much much faster\n",
    "    # need to take a copy to physically move the data around\n",
    "    train_x = collect(Float32, transpose(reshape(MNIST.traintensor(), 28*28, :)))\n",
    "    test_x  = collect(Float32, transpose(reshape(MNIST.testtensor(), 28*28, :)))\n",
    "    \n",
    "    train = DataFrame(train_x, :auto)\n",
    "    valid = nothing # why is there no validation set in `MLDataSets`??\n",
    "    test = DataFrame(test_x, :auto)\n",
    "    if (labeled)\n",
    "        train_y::Vector{UInt8} = MNIST.trainlabels()\n",
    "        test_y::Vector{UInt8}  = MNIST.testlabels()\n",
    "        train.y = train_y\n",
    "        test.y = test_y\n",
    "    end\n",
    "    return train, valid, test\n",
    "end"
   ]
  },
  {
   "cell_type": "code",
   "execution_count": 35,
   "metadata": {},
   "outputs": [
    {
     "data": {
      "text/plain": [
       "load_pc (generic function with 1 method)"
      ]
     },
     "execution_count": 35,
     "metadata": {},
     "output_type": "execute_result"
    }
   ],
   "source": [
    "function arr2img(one_sample; ratio = 1)\n",
    "    imresize(colorview(Gray, transpose(reshape(Array(one_sample), (28,28)))), ratio=ratio)\n",
    "end\n",
    "\n",
    "import LogicCircuits: example\n",
    "function example(data::Vector{DataFrame}, i)\n",
    "    for b = 1 : size(data)[1]\n",
    "        if i <  size(data[b])[1]\n",
    "            return data[b][i,:]\n",
    "        end\n",
    "        i -= size(data[b])[1]\n",
    "    end\n",
    "end\n",
    "\n",
    "function load_pc(name)\n",
    "    read(\"$(@__DIR__)//$(name).jpc\", ProbCircuit)\n",
    "end"
   ]
  },
  {
   "cell_type": "code",
   "execution_count": 36,
   "metadata": {},
   "outputs": [
    {
     "data": {
      "text/plain": [
       "1024"
      ]
     },
     "execution_count": 36,
     "metadata": {},
     "output_type": "execute_result"
    }
   ],
   "source": [
    "Random.seed!(2880)\n",
    "nvars = num_variables(pc)\n",
    "soft_reg_train = 0.002\n",
    "batch_SIZE = 1024"
   ]
  },
  {
   "cell_type": "code",
   "execution_count": 258,
   "metadata": {},
   "outputs": [
    {
     "name": "stdout",
     "output_type": "stream",
     "text": [
      "51961\n",
      "784\n",
      "51072\n"
     ]
    }
   ],
   "source": [
    "name = \"mnist_cats8_181\"\n",
    "pc = load_pc(name)\n",
    "println(num_nodes(pc))\n",
    "println(num_variables(pc))\n",
    "println(num_parameters(pc))"
   ]
  },
  {
   "cell_type": "code",
   "execution_count": 359,
   "metadata": {},
   "outputs": [
    {
     "data": {
      "text/plain": [
       "2.55449098"
      ]
     },
     "execution_count": 359,
     "metadata": {},
     "output_type": "execute_result"
    }
   ],
   "source": [
    "t = @elapsed begin\n",
    "    # MNIST dataset\n",
    "    mnist_train, _, mnist_test = mnist(true);\n",
    "    mnist_train, _, mnist_test = threshold(mnist_train[:, 1:end-1], nothing, mnist_test[:, 1:end-1], 0.5);\n",
    "#     mnist_train = shuffle_examples(mnist_train);\n",
    "    mnist_valid = mnist_train[1:10000, :];\n",
    "    mnist_train = mnist_train[10001:end, :];\n",
    "        \n",
    "    train_data = batch(soften(mnist_train, soft_reg_train; scale_by_marginal = true), batch_SIZE; shuffle=false)\n",
    "    valid_data = batch(mnist_valid, batch_SIZE; shuffle = false)\n",
    "    test_data = batch(mnist_test, batch_SIZE; shuffle = false)\n",
    "end"
   ]
  },
  {
   "cell_type": "code",
   "execution_count": 563,
   "metadata": {},
   "outputs": [
    {
     "data": {
      "image/png": "[encoded data removed]",
      "text/plain": [
       "28×28 Array{Gray{Float64},2} with eltype Gray{Float64}:\n",
       " Gray{Float64}(0.0)  Gray{Float64}(0.0)  …  Gray{Float64}(0.0)\n",
       " Gray{Float64}(0.0)  Gray{Float64}(0.0)     Gray{Float64}(0.0)\n",
       " Gray{Float64}(0.0)  Gray{Float64}(0.0)     Gray{Float64}(0.0)\n",
       " Gray{Float64}(0.0)  Gray{Float64}(0.0)     Gray{Float64}(0.0)\n",
       " Gray{Float64}(0.0)  Gray{Float64}(0.0)     Gray{Float64}(0.0)\n",
       " Gray{Float64}(0.0)  Gray{Float64}(0.0)  …  Gray{Float64}(0.0)\n",
       " Gray{Float64}(0.0)  Gray{Float64}(0.0)     Gray{Float64}(0.0)\n",
       " Gray{Float64}(0.0)  Gray{Float64}(0.0)     Gray{Float64}(0.0)\n",
       " Gray{Float64}(0.0)  Gray{Float64}(0.0)     Gray{Float64}(0.0)\n",
       " Gray{Float64}(0.0)  Gray{Float64}(0.0)     Gray{Float64}(0.0)\n",
       " Gray{Float64}(0.0)  Gray{Float64}(0.0)  …  Gray{Float64}(0.0)\n",
       " Gray{Float64}(0.0)  Gray{Float64}(0.0)     Gray{Float64}(0.0)\n",
       " Gray{Float64}(0.0)  Gray{Float64}(0.0)     Gray{Float64}(0.0)\n",
       " ⋮                                       ⋱  \n",
       " Gray{Float64}(0.0)  Gray{Float64}(0.0)     Gray{Float64}(0.0)\n",
       " Gray{Float64}(0.0)  Gray{Float64}(0.0)     Gray{Float64}(0.0)\n",
       " Gray{Float64}(0.0)  Gray{Float64}(0.0)     Gray{Float64}(0.0)\n",
       " Gray{Float64}(0.0)  Gray{Float64}(0.0)     Gray{Float64}(0.0)\n",
       " Gray{Float64}(0.0)  Gray{Float64}(0.0)  …  Gray{Float64}(0.0)\n",
       " Gray{Float64}(0.0)  Gray{Float64}(0.0)     Gray{Float64}(0.0)\n",
       " Gray{Float64}(0.0)  Gray{Float64}(0.0)     Gray{Float64}(0.0)\n",
       " Gray{Float64}(0.0)  Gray{Float64}(0.0)     Gray{Float64}(0.0)\n",
       " Gray{Float64}(0.0)  Gray{Float64}(0.0)     Gray{Float64}(0.0)\n",
       " Gray{Float64}(0.0)  Gray{Float64}(0.0)  …  Gray{Float64}(0.0)\n",
       " Gray{Float64}(0.0)  Gray{Float64}(0.0)     Gray{Float64}(0.0)\n",
       " Gray{Float64}(0.0)  Gray{Float64}(0.0)     Gray{Float64}(0.0)"
      ]
     },
     "execution_count": 563,
     "metadata": {},
     "output_type": "execute_result"
    }
   ],
   "source": [
    "img_idx = 10\n",
    "img = example(test_data, img_idx)\n",
    "arr2img(img)"
   ]
  },
  {
   "cell_type": "code",
   "execution_count": 564,
   "metadata": {},
   "outputs": [],
   "source": [
    "# choose the conditoin index\n",
    "# 1. condition on pixels 1..K,\n",
    "# 2. condition on indexes nvars...(nvars-B)\n",
    "K = 28*13\n",
    "B = 28*13\n",
    "condition_indexs = [i for i=1:K]\n",
    "append!(condition_indexs, [i for i=nvars-1:-1:(nvars-B+1)])\n",
    "partial_image = [img[i] == 1 ? i : -i for i in condition_indexs];"
   ]
  },
  {
   "cell_type": "code",
   "execution_count": 565,
   "metadata": {},
   "outputs": [],
   "source": [
    "U = 14\n",
    "D = 8\n",
    "L = 12\n",
    "R = 8\n",
    "\n",
    "condition_indexs = [i for i=1:nvars-1 if ((i%28 <= L) | (i % 28 > 28-R) | (i/28 <= U) | (i/28 > 28-D))]\n",
    "partial_image = [img[i] == 1 ? i : -i for i in condition_indexs];"
   ]
  },
  {
   "cell_type": "code",
   "execution_count": 566,
   "metadata": {},
   "outputs": [
    {
     "data": {
      "image/png": "[encoded data removed]",
      "text/plain": [
       "28×316 MosaicView{Gray{Float64}, 4, PermutedDimsArray{Gray{Float64}, 4, (1, 2, 4, 3), (1, 2, 4, 3), Base.ReshapedArray{Gray{Float64}, 4, PaddedView{Gray{Float64}, 3, Tuple{Base.OneTo{Int64}, Base.OneTo{Int64}, Base.OneTo{Int64}}, StackViews.StackView{Gray{Float64}, 3, 3, Vector{OffsetArrays.OffsetMatrix{Gray{Float64}, PaddedView{Gray{Float64}, 2, Tuple{UnitRange{Int64}, UnitRange{Int64}}, Matrix{Gray{Float64}}}}}}}, Tuple{Base.MultiplicativeInverses.SignedMultiplicativeInverse{Int64}, Base.MultiplicativeInverses.SignedMultiplicativeInverse{Int64}}}}}:\n",
       " Gray{Float64}(0.0)  Gray{Float64}(0.0)  …  Gray{Float64}(1.0)\n",
       " Gray{Float64}(0.0)  Gray{Float64}(0.0)     Gray{Float64}(1.0)\n",
       " Gray{Float64}(0.0)  Gray{Float64}(0.0)     Gray{Float64}(1.0)\n",
       " Gray{Float64}(0.0)  Gray{Float64}(0.0)     Gray{Float64}(1.0)\n",
       " Gray{Float64}(0.0)  Gray{Float64}(0.0)     Gray{Float64}(1.0)\n",
       " Gray{Float64}(0.0)  Gray{Float64}(0.0)  …  Gray{Float64}(1.0)\n",
       " Gray{Float64}(0.0)  Gray{Float64}(0.0)     Gray{Float64}(1.0)\n",
       " Gray{Float64}(0.0)  Gray{Float64}(0.0)     Gray{Float64}(1.0)\n",
       " Gray{Float64}(0.0)  Gray{Float64}(0.0)     Gray{Float64}(1.0)\n",
       " Gray{Float64}(0.0)  Gray{Float64}(0.0)     Gray{Float64}(1.0)\n",
       " Gray{Float64}(0.0)  Gray{Float64}(0.0)  …  Gray{Float64}(1.0)\n",
       " Gray{Float64}(0.0)  Gray{Float64}(0.0)     Gray{Float64}(1.0)\n",
       " Gray{Float64}(0.0)  Gray{Float64}(0.0)     Gray{Float64}(1.0)\n",
       " ⋮                                       ⋱  ⋮\n",
       " Gray{Float64}(0.0)  Gray{Float64}(0.0)     Gray{Float64}(1.0)\n",
       " Gray{Float64}(0.0)  Gray{Float64}(0.0)     Gray{Float64}(1.0)\n",
       " Gray{Float64}(0.0)  Gray{Float64}(0.0)     Gray{Float64}(1.0)\n",
       " Gray{Float64}(0.0)  Gray{Float64}(0.0)     Gray{Float64}(1.0)\n",
       " Gray{Float64}(0.0)  Gray{Float64}(0.0)  …  Gray{Float64}(1.0)\n",
       " Gray{Float64}(0.0)  Gray{Float64}(0.0)     Gray{Float64}(1.0)\n",
       " Gray{Float64}(0.0)  Gray{Float64}(0.0)     Gray{Float64}(1.0)\n",
       " Gray{Float64}(0.0)  Gray{Float64}(0.0)     Gray{Float64}(1.0)\n",
       " Gray{Float64}(0.0)  Gray{Float64}(0.0)     Gray{Float64}(1.0)\n",
       " Gray{Float64}(0.0)  Gray{Float64}(0.0)  …  Gray{Float64}(1.0)\n",
       " Gray{Float64}(0.0)  Gray{Float64}(0.0)     Gray{Float64}(1.0)\n",
       " Gray{Float64}(0.0)  Gray{Float64}(0.0)     Gray{Float64}(1.0)"
      ]
     },
     "execution_count": 566,
     "metadata": {},
     "output_type": "execute_result"
    }
   ],
   "source": [
    "# query to be the rest of pixels\n",
    "query = []\n",
    "for i = 1:nvars\n",
    "    if !(i in condition_indexs)\n",
    "        push!(query, i)\n",
    "    end\n",
    "end\n",
    "query = BitSet(query);\n",
    "\n",
    "# Gray out is missing, the rest is the condition\n",
    "img_temp = Float32.(Array(example(test_data, img_idx)))\n",
    "for i in 1:nvars\n",
    "    if !(i in condition_indexs)\n",
    "        img_temp[i] = 0.5\n",
    "    end\n",
    "end\n",
    "\n",
    "# Black pixels are the query\n",
    "query_img = [i in query ? 0.0 : .9 for i=1:nvars]\n",
    "\n",
    "arr = [arr2img(img), arr2img(img_temp),  arr2img(query_img)]\n",
    "mosaicview(arr, fillvalue=1, npad=4, ncol=10, rowmajor=true)"
   ]
  },
  {
   "cell_type": "code",
   "execution_count": 567,
   "metadata": {},
   "outputs": [
    {
     "data": {
      "text/plain": [
       "PlainSumNode(12013715386338757997)"
      ]
     },
     "execution_count": 567,
     "metadata": {},
     "output_type": "execute_result"
    }
   ],
   "source": [
    "pc = load_pc(name)"
   ]
  },
  {
   "cell_type": "code",
   "execution_count": 568,
   "metadata": {},
   "outputs": [
    {
     "name": "stdout",
     "output_type": "stream",
     "text": [
      "51961 51072 128792\n",
      "conjoin_with_literals .. (735,)\n",
      "51226 45192 122912\n"
     ]
    },
    {
     "data": {
      "text/plain": [
       "0.200897152"
      ]
     },
     "execution_count": 568,
     "metadata": {},
     "output_type": "execute_result"
    }
   ],
   "source": [
    "t = @elapsed begin\n",
    "    println(num_nodes(pc), \" \", num_parameters(pc), \" \", num_edges(pc))\n",
    "    conjoin_lits = Int32.(partial_image)\n",
    "    println(\"conjoin_with_literals .. $(size(conjoin_lits))\")\n",
    "    pc2 = conjoin_with_literals(pc, conjoin_lits) \n",
    "    println(num_nodes(pc2), \" \", num_parameters(pc2), \" \", num_edges(pc2))\n",
    "end"
   ]
  },
  {
   "cell_type": "code",
   "execution_count": 569,
   "metadata": {},
   "outputs": [],
   "source": [
    "# chunk = 20\n",
    "# conjoin_lits = Int32.(partial_image)\n",
    "# for i = 1:chunk:size(conjoin_lits)[1]\n",
    "#     end_idx = min(size(conjoin_lits)[1], i+chunk-1)\n",
    "#     print(\"Conjoining on conjoin_lits[$(i):$(end_idx)]\")\n",
    "#     t = @elapsed begin\n",
    "#        pc = pc_condition(pc, conjoin_lits[i:end_idx]...)    \n",
    "#     end\n",
    "#     println(\" $(t) seconds; Out of $(size(conjoin_lits))\")\n",
    "#     write(\"conjoined_pc.jpc\", pc)\n",
    "# end"
   ]
  },
  {
   "cell_type": "code",
   "execution_count": 570,
   "metadata": {},
   "outputs": [
    {
     "data": {
      "image/png": "[encoded data removed]",
      "text/plain": [
       "28×28 Array{Gray{Float64},2} with eltype Gray{Float64}:\n",
       " Gray{Float64}(0.0)  Gray{Float64}(0.0)  …  Gray{Float64}(0.0)\n",
       " Gray{Float64}(0.0)  Gray{Float64}(0.0)     Gray{Float64}(0.0)\n",
       " Gray{Float64}(0.0)  Gray{Float64}(0.0)     Gray{Float64}(0.0)\n",
       " Gray{Float64}(0.0)  Gray{Float64}(0.0)     Gray{Float64}(0.0)\n",
       " Gray{Float64}(0.0)  Gray{Float64}(0.0)     Gray{Float64}(0.0)\n",
       " Gray{Float64}(0.0)  Gray{Float64}(0.0)  …  Gray{Float64}(0.0)\n",
       " Gray{Float64}(0.0)  Gray{Float64}(0.0)     Gray{Float64}(0.0)\n",
       " Gray{Float64}(0.0)  Gray{Float64}(0.0)     Gray{Float64}(0.0)\n",
       " Gray{Float64}(0.0)  Gray{Float64}(0.0)     Gray{Float64}(0.0)\n",
       " Gray{Float64}(0.0)  Gray{Float64}(0.0)     Gray{Float64}(0.0)\n",
       " Gray{Float64}(0.0)  Gray{Float64}(0.0)  …  Gray{Float64}(0.0)\n",
       " Gray{Float64}(0.0)  Gray{Float64}(0.0)     Gray{Float64}(0.0)\n",
       " Gray{Float64}(0.0)  Gray{Float64}(0.0)     Gray{Float64}(0.0)\n",
       " ⋮                                       ⋱  \n",
       " Gray{Float64}(0.0)  Gray{Float64}(0.0)     Gray{Float64}(0.0)\n",
       " Gray{Float64}(0.0)  Gray{Float64}(0.0)     Gray{Float64}(0.0)\n",
       " Gray{Float64}(0.0)  Gray{Float64}(0.0)     Gray{Float64}(0.0)\n",
       " Gray{Float64}(0.0)  Gray{Float64}(0.0)     Gray{Float64}(0.0)\n",
       " Gray{Float64}(0.0)  Gray{Float64}(0.0)  …  Gray{Float64}(0.0)\n",
       " Gray{Float64}(0.0)  Gray{Float64}(0.0)     Gray{Float64}(0.0)\n",
       " Gray{Float64}(0.0)  Gray{Float64}(0.0)     Gray{Float64}(0.0)\n",
       " Gray{Float64}(0.0)  Gray{Float64}(0.0)     Gray{Float64}(0.0)\n",
       " Gray{Float64}(0.0)  Gray{Float64}(0.0)     Gray{Float64}(0.0)\n",
       " Gray{Float64}(0.0)  Gray{Float64}(0.0)  …  Gray{Float64}(0.0)\n",
       " Gray{Float64}(0.0)  Gray{Float64}(0.0)     Gray{Float64}(0.0)\n",
       " Gray{Float64}(0.0)  Gray{Float64}(0.0)     Gray{Float64}(0.0)"
      ]
     },
     "execution_count": 570,
     "metadata": {},
     "output_type": "execute_result"
    }
   ],
   "source": [
    "mpe_input = Array{Float32}([i in condition_indexs ? img[i] : 0.0 for i=1:nvars])\n",
    "mpe_state, p_mpe = max_a_posteriori(pc, [i in condition_indexs ? img[i] : missing for i=1:nvars])\n",
    "print(p_mpe)\n",
    "arr2img(mpe_state)"
   ]
  },
  {
   "cell_type": "code",
   "execution_count": 571,
   "metadata": {},
   "outputs": [
    {
     "data": {
      "image/png": "[encoded data removed]",
      "text/plain": [
       "28×28 Array{Gray{Float64},2} with eltype Gray{Float64}:\n",
       " Gray{Float64}(0.0)  Gray{Float64}(0.0)  …  Gray{Float64}(0.0)\n",
       " Gray{Float64}(0.0)  Gray{Float64}(0.0)     Gray{Float64}(0.0)\n",
       " Gray{Float64}(0.0)  Gray{Float64}(0.0)     Gray{Float64}(0.0)\n",
       " Gray{Float64}(0.0)  Gray{Float64}(0.0)     Gray{Float64}(0.0)\n",
       " Gray{Float64}(0.0)  Gray{Float64}(0.0)     Gray{Float64}(0.0)\n",
       " Gray{Float64}(0.0)  Gray{Float64}(0.0)  …  Gray{Float64}(0.0)\n",
       " Gray{Float64}(0.0)  Gray{Float64}(0.0)     Gray{Float64}(0.0)\n",
       " Gray{Float64}(0.0)  Gray{Float64}(0.0)     Gray{Float64}(0.0)\n",
       " Gray{Float64}(0.0)  Gray{Float64}(0.0)     Gray{Float64}(0.0)\n",
       " Gray{Float64}(0.0)  Gray{Float64}(0.0)     Gray{Float64}(0.0)\n",
       " Gray{Float64}(0.0)  Gray{Float64}(0.0)  …  Gray{Float64}(0.0)\n",
       " Gray{Float64}(0.0)  Gray{Float64}(0.0)     Gray{Float64}(0.0)\n",
       " Gray{Float64}(0.0)  Gray{Float64}(0.0)     Gray{Float64}(0.0)\n",
       " ⋮                                       ⋱  \n",
       " Gray{Float64}(0.0)  Gray{Float64}(0.0)     Gray{Float64}(0.0)\n",
       " Gray{Float64}(0.0)  Gray{Float64}(0.0)     Gray{Float64}(0.0)\n",
       " Gray{Float64}(0.0)  Gray{Float64}(0.0)     Gray{Float64}(0.0)\n",
       " Gray{Float64}(0.0)  Gray{Float64}(0.0)     Gray{Float64}(0.0)\n",
       " Gray{Float64}(0.0)  Gray{Float64}(0.0)  …  Gray{Float64}(0.0)\n",
       " Gray{Float64}(0.0)  Gray{Float64}(0.0)     Gray{Float64}(0.0)\n",
       " Gray{Float64}(0.0)  Gray{Float64}(0.0)     Gray{Float64}(0.0)\n",
       " Gray{Float64}(0.0)  Gray{Float64}(0.0)     Gray{Float64}(0.0)\n",
       " Gray{Float64}(0.0)  Gray{Float64}(0.0)     Gray{Float64}(0.0)\n",
       " Gray{Float64}(0.0)  Gray{Float64}(0.0)  …  Gray{Float64}(0.0)\n",
       " Gray{Float64}(0.0)  Gray{Float64}(0.0)     Gray{Float64}(0.0)\n",
       " Gray{Float64}(0.0)  Gray{Float64}(0.0)     Gray{Float64}(0.0)"
      ]
     },
     "execution_count": 571,
     "metadata": {},
     "output_type": "execute_result"
    }
   ],
   "source": [
    "for i=1:nvars\n",
    "    if i in condition_indexs\n",
    "        mpe_state[i] = img[i]\n",
    "    end\n",
    "end\n",
    "arr2img(mpe_state)"
   ]
  },
  {
   "cell_type": "code",
   "execution_count": null,
   "metadata": {
    "scrolled": true
   },
   "outputs": [
    {
     "name": "stdout",
     "output_type": "stream",
     "text": [
      "(ub, lb) = (-102.1149420360249, -111.8297540867666)\n",
      "* Starting with 14496 edges and 4403 nodes.\n",
      "* Pruning gives 14496 edges and 4403 nodes.\n",
      "* [1/49] Splitting on 784 gives 17090 edges and 4901 nodes.\n",
      "* Starting with 17090 edges and 4901 nodes.\n",
      "* Pruning gives 14489 edges and 4403 nodes.\n",
      "* [2/49] Splitting on 552 gives 15108 edges and 4598 nodes.\n",
      "* Starting with 15108 edges and 4598 nodes.\n",
      "* Pruning gives 15108 edges and 4598 nodes.\n",
      "* [3/49] Splitting on 550 gives 16178 edges and 4932 nodes.\n",
      "* Starting with 16178 edges and 4932 nodes.\n",
      "* Pruning gives 16178 edges and 4932 nodes.\n",
      "* [4/49] Splitting on 523 gives 17998 edges and 5504 nodes.\n",
      "* Starting with 17998 edges and 5504 nodes.\n",
      "* Pruning gives 17732 edges and 5430 nodes.\n",
      "* [5/49] Splitting on 524 gives 20498 edges and 6260 nodes.\n",
      "* Starting with 20498 edges and 6260 nodes.\n",
      "* Pruning gives 19966 edges and 6112 nodes.\n",
      "* [6/49] Splitting on 521 gives 25278 edges and 7736 nodes.\n",
      "* Starting with 25278 edges and 7736 nodes.\n",
      "* Pruning gives 23678 edges and 7288 nodes.\n",
      "* [7/49] Splitting on 496 gives 30478 edges and 9320 nodes.\n",
      "* Starting with 30478 edges and 9320 nodes.\n",
      "* Pruning gives 27642 edges and 8500 nodes.\n",
      "* [8/49] Splitting on 551 gives 37190 edges and 11272 nodes.\n",
      "* Starting with 37190 edges and 11272 nodes.\n",
      "* Pruning gives 31066 edges and 9532 nodes.\n",
      "* [9/49] Splitting on 412 gives 44166 edges and 13464 nodes.\n",
      "* Starting with 44166 edges and 13464 nodes.\n",
      "* Pruning gives 39532 edges and 12142 nodes.\n",
      "* [10/49] Splitting on 491 gives 44306 edges and 13876 nodes.\n",
      "* Starting with 44306 edges and 13876 nodes.\n",
      "* Pruning gives 39980 edges and 12470 nodes.\n",
      "* [11/49] Splitting on 468 gives 58930 edges and 18620 nodes.\n",
      "* Starting with 58930 edges and 18620 nodes.\n",
      "* Pruning gives 47573 edges and 15031 nodes.\n",
      "* [12/49] Splitting on 410 gives 70900 edges and 22550 nodes.\n",
      "* Starting with 70900 edges and 22550 nodes.\n",
      "* Pruning gives 56582 edges and 17984 nodes.\n",
      "* [13/49] Splitting on 439 gives 86070 edges and 27512 nodes.\n",
      "* Starting with 86070 edges and 27512 nodes.\n",
      "* Pruning gives 73658 edges and 23540 nodes.\n",
      "* [14/49] Splitting on 406 gives 85894 edges and 29064 nodes.\n",
      "* Starting with 85894 edges and 29064 nodes.\n",
      "* Pruning gives 75601 edges and 24882 nodes.\n",
      "* [15/49] Splitting on 546 gives 92196 edges and 32837 nodes.\n",
      "* Starting with 92196 edges and 32837 nodes.\n",
      "* Pruning gives 82172 edges and 27181 nodes.\n",
      "* [16/49] Splitting on 433 gives 107026 edges and 37395 nodes.\n",
      "* Starting with 107026 edges and 37395 nodes.\n",
      "* Pruning gives 94238 edges and 31143 nodes.\n",
      "* [17/49] Splitting on 461 gives 132750 edges and 45727 nodes.\n",
      "* Starting with 132750 edges and 45727 nodes.\n",
      "* Pruning gives 115617 edges and 37714 nodes.\n",
      "* [18/49] Splitting on 490 gives 164628 edges and 57557 nodes.\n",
      "* Starting with 164628 edges and 57557 nodes.\n",
      "* Pruning gives 139962 edges and 46571 nodes.\n",
      "* [19/49] Splitting on 492 gives 231398 edges and 78575 nodes.\n",
      "* Starting with 231398 edges and 78575 nodes.\n",
      "* Pruning gives 194879 edges and 62544 nodes.\n",
      "* [20/49] Splitting on 434 gives 340912 edges and 110105 nodes.\n",
      "* Starting with 340912 edges and 110105 nodes.\n",
      "* Pruning gives 260929 edges and 79713 nodes.\n",
      "* [21/49] Splitting on 438 gives 347836 edges and 125244 nodes."
     ]
    }
   ],
   "source": [
    "t = @elapsed begin\n",
    "    did_timeout, total_time, iter, ub, lb, lb_state, pc = mmap_solve(pc2, query, heur=\"UB\", verbose=true);\n",
    "end"
   ]
  },
  {
   "cell_type": "code",
   "execution_count": null,
   "metadata": {},
   "outputs": [],
   "source": [
    "for i in condition_indexs\n",
    "    lb_state[i] = img[i];\n",
    "end\n",
    "lb_state = Array{Bool}(lb_state);"
   ]
  },
  {
   "cell_type": "code",
   "execution_count": null,
   "metadata": {},
   "outputs": [],
   "source": [
    "DataFrame([lb_state; lb_state], :auto)"
   ]
  },
  {
   "cell_type": "code",
   "execution_count": null,
   "metadata": {},
   "outputs": [],
   "source": [
    "lb_state_2 = zeros(Bool, (1,28*28))\n",
    "lb_state_2[1,:] .= lb_state;\n",
    "println(\"MMAP Likelihood: \", marginal(pc, DataFrame(lb_state_2, :auto)))\n",
    "\n",
    "mpe_state_2 = zeros(Bool, (1,28*28))\n",
    "mpe_state_2[1,:] .= mpe_state;\n",
    "println(\"MAP likelihood: \", marginal(pc, DataFrame(mpe_state_2, :auto)))"
   ]
  },
  {
   "cell_type": "code",
   "execution_count": null,
   "metadata": {},
   "outputs": [],
   "source": [
    "sum((Array{Bool}(img) .!==  lb_state))"
   ]
  },
  {
   "cell_type": "code",
   "execution_count": null,
   "metadata": {},
   "outputs": [],
   "source": [
    "sum((mpe_state .!==  lb_state))"
   ]
  },
  {
   "cell_type": "code",
   "execution_count": null,
   "metadata": {},
   "outputs": [],
   "source": [
    "arr = [arr2img(img), arr2img(img_temp),  arr2img(query_img), arr2img(mpe_state), arr2img(lb_state), arr2img((mpe_state .!==  lb_state))]\n",
    "mosaicview(arr, fillvalue=1, npad=4, ncol=3, rowmajor=true)"
   ]
  },
  {
   "cell_type": "code",
   "execution_count": null,
   "metadata": {},
   "outputs": [],
   "source": []
  },
  {
   "cell_type": "code",
   "execution_count": null,
   "metadata": {},
   "outputs": [],
   "source": []
  },
  {
   "cell_type": "code",
   "execution_count": null,
   "metadata": {},
   "outputs": [],
   "source": []
  },
  {
   "cell_type": "code",
   "execution_count": null,
   "metadata": {},
   "outputs": [],
   "source": []
  }
 ],
 "metadata": {
  "kernelspec": {
   "display_name": "Julia 1.6.0",
   "language": "julia",
   "name": "julia-1.6"
  },
  "language_info": {
   "file_extension": ".jl",
   "mimetype": "application/julia",
   "name": "julia",
   "version": "1.6.0"
  }
 },
 "nbformat": 4,
 "nbformat_minor": 4
}
